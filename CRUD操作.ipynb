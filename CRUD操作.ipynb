{
 "cells": [
  {
   "cell_type": "code",
   "execution_count": 2,
   "metadata": {},
   "outputs": [],
   "source": [
    "from assets.database import db_session\n",
    "from assets.database import init_db\n",
    "from assets.models import Data\n",
    "\n",
    "import datetime"
   ]
  },
  {
   "cell_type": "code",
   "execution_count": 3,
   "metadata": {},
   "outputs": [
    {
     "name": "stdout",
     "output_type": "stream",
     "text": [
      "2022-02-27 01:44:17,616 INFO sqlalchemy.engine.Engine BEGIN (implicit)\n",
      "2022-02-27 01:44:17,617 INFO sqlalchemy.engine.Engine PRAGMA main.table_info(\"data\")\n",
      "2022-02-27 01:44:17,618 INFO sqlalchemy.engine.Engine [raw sql] ()\n",
      "2022-02-27 01:44:17,619 INFO sqlalchemy.engine.Engine PRAGMA temp.table_info(\"data\")\n",
      "2022-02-27 01:44:17,620 INFO sqlalchemy.engine.Engine [raw sql] ()\n",
      "2022-02-27 01:44:17,621 INFO sqlalchemy.engine.Engine \n",
      "CREATE TABLE data (\n",
      "\tid INTEGER NOT NULL, \n",
      "\tdate DATE, \n",
      "\tsubscribers INTEGER, \n",
      "\treviews INTEGER, \n",
      "\ttimestamp DATETIME, \n",
      "\tPRIMARY KEY (id)\n",
      ")\n",
      "\n",
      "\n",
      "2022-02-27 01:44:17,622 INFO sqlalchemy.engine.Engine [no key 0.00084s] ()\n",
      "2022-02-27 01:44:17,628 INFO sqlalchemy.engine.Engine COMMIT\n"
     ]
    }
   ],
   "source": [
    "init_db()"
   ]
  },
  {
   "cell_type": "markdown",
   "metadata": {},
   "source": [
    "### Create"
   ]
  },
  {
   "cell_type": "code",
   "execution_count": 4,
   "metadata": {},
   "outputs": [
    {
     "data": {
      "text/plain": [
       "datetime.date(2022, 2, 27)"
      ]
     },
     "execution_count": 4,
     "metadata": {},
     "output_type": "execute_result"
    }
   ],
   "source": [
    "date = datetime.date.today()\n",
    "date"
   ]
  },
  {
   "cell_type": "code",
   "execution_count": 5,
   "metadata": {},
   "outputs": [],
   "source": [
    "row = Data(date=date, subscribers=3500, reviews=200)"
   ]
  },
  {
   "cell_type": "code",
   "execution_count": 6,
   "metadata": {},
   "outputs": [
    {
     "data": {
      "text/plain": [
       "<assets.models.Data at 0x7f9bf8b41520>"
      ]
     },
     "execution_count": 6,
     "metadata": {},
     "output_type": "execute_result"
    }
   ],
   "source": [
    "row"
   ]
  },
  {
   "cell_type": "code",
   "execution_count": 7,
   "metadata": {},
   "outputs": [
    {
     "data": {
      "text/plain": [
       "datetime.date(2022, 2, 27)"
      ]
     },
     "execution_count": 7,
     "metadata": {},
     "output_type": "execute_result"
    }
   ],
   "source": [
    "row.date"
   ]
  },
  {
   "cell_type": "code",
   "execution_count": 8,
   "metadata": {},
   "outputs": [
    {
     "data": {
      "text/plain": [
       "3500"
      ]
     },
     "execution_count": 8,
     "metadata": {},
     "output_type": "execute_result"
    }
   ],
   "source": [
    "row.subscribers"
   ]
  },
  {
   "cell_type": "code",
   "execution_count": 9,
   "metadata": {},
   "outputs": [],
   "source": [
    "db_session.add(row)"
   ]
  },
  {
   "cell_type": "code",
   "execution_count": 10,
   "metadata": {},
   "outputs": [
    {
     "name": "stdout",
     "output_type": "stream",
     "text": [
      "2022-02-27 01:51:50,778 INFO sqlalchemy.engine.Engine BEGIN (implicit)\n",
      "2022-02-27 01:51:50,782 INFO sqlalchemy.engine.Engine INSERT INTO data (date, subscribers, reviews, timestamp) VALUES (?, ?, ?, ?)\n",
      "2022-02-27 01:51:50,783 INFO sqlalchemy.engine.Engine [generated in 0.00162s] ('2022-02-27', 3500, 200, '2022-02-27 01:44:17.579109')\n",
      "2022-02-27 01:51:50,786 INFO sqlalchemy.engine.Engine COMMIT\n"
     ]
    }
   ],
   "source": [
    "db_session.commit()"
   ]
  },
  {
   "cell_type": "code",
   "execution_count": 11,
   "metadata": {},
   "outputs": [],
   "source": [
    "row1 = Data(date=date, subscribers=6500, reviews=210)\n",
    "row2 = Data(date=date, subscribers=1500, reviews=220)"
   ]
  },
  {
   "cell_type": "code",
   "execution_count": 12,
   "metadata": {},
   "outputs": [],
   "source": [
    "db_session.add(row1)\n",
    "db_session.add(row2)"
   ]
  },
  {
   "cell_type": "code",
   "execution_count": 13,
   "metadata": {},
   "outputs": [
    {
     "name": "stdout",
     "output_type": "stream",
     "text": [
      "2022-02-27 01:53:49,826 INFO sqlalchemy.engine.Engine BEGIN (implicit)\n",
      "2022-02-27 01:53:49,827 INFO sqlalchemy.engine.Engine INSERT INTO data (date, subscribers, reviews, timestamp) VALUES (?, ?, ?, ?)\n",
      "2022-02-27 01:53:49,829 INFO sqlalchemy.engine.Engine [cached since 119s ago] ('2022-02-27', 6500, 210, '2022-02-27 01:44:17.579109')\n",
      "2022-02-27 01:53:49,831 INFO sqlalchemy.engine.Engine INSERT INTO data (date, subscribers, reviews, timestamp) VALUES (?, ?, ?, ?)\n",
      "2022-02-27 01:53:49,832 INFO sqlalchemy.engine.Engine [cached since 119s ago] ('2022-02-27', 1500, 220, '2022-02-27 01:44:17.579109')\n",
      "2022-02-27 01:53:49,833 INFO sqlalchemy.engine.Engine COMMIT\n"
     ]
    }
   ],
   "source": [
    "db_session.commit()"
   ]
  },
  {
   "cell_type": "markdown",
   "metadata": {},
   "source": [
    "### Read"
   ]
  },
  {
   "cell_type": "code",
   "execution_count": 14,
   "metadata": {},
   "outputs": [
    {
     "name": "stdout",
     "output_type": "stream",
     "text": [
      "2022-02-27 01:55:20,381 INFO sqlalchemy.engine.Engine BEGIN (implicit)\n",
      "2022-02-27 01:55:20,385 INFO sqlalchemy.engine.Engine SELECT data.id AS data_id, data.date AS data_date, data.subscribers AS data_subscribers, data.reviews AS data_reviews, data.timestamp AS data_timestamp \n",
      "FROM data\n",
      "2022-02-27 01:55:20,386 INFO sqlalchemy.engine.Engine [generated in 0.00148s] ()\n"
     ]
    },
    {
     "data": {
      "text/plain": [
       "[<assets.models.Data at 0x7f9bf8b41520>,\n",
       " <assets.models.Data at 0x7f9bf8bb1b80>,\n",
       " <assets.models.Data at 0x7f9bf8bb1b20>]"
      ]
     },
     "execution_count": 14,
     "metadata": {},
     "output_type": "execute_result"
    }
   ],
   "source": [
    "db_session.query(Data).all()"
   ]
  },
  {
   "cell_type": "code",
   "execution_count": 21,
   "metadata": {},
   "outputs": [
    {
     "name": "stdout",
     "output_type": "stream",
     "text": [
      "2022-02-27 01:57:09,091 INFO sqlalchemy.engine.Engine SELECT data.id AS data_id, data.date AS data_date, data.subscribers AS data_subscribers, data.reviews AS data_reviews, data.timestamp AS data_timestamp \n",
      "FROM data\n",
      "2022-02-27 01:57:09,093 INFO sqlalchemy.engine.Engine [cached since 108.7s ago] ()\n"
     ]
    },
    {
     "data": {
      "text/plain": [
       "<assets.models.Data at 0x7f9bf8b41520>"
      ]
     },
     "execution_count": 21,
     "metadata": {},
     "output_type": "execute_result"
    }
   ],
   "source": [
    "datum = db_session.query(Data).all()[0]\n",
    "datum"
   ]
  },
  {
   "cell_type": "code",
   "execution_count": 22,
   "metadata": {},
   "outputs": [],
   "source": [
    "datum.subscribers = 10000"
   ]
  },
  {
   "cell_type": "code",
   "execution_count": 23,
   "metadata": {},
   "outputs": [],
   "source": [
    "db_session.add(datum)"
   ]
  },
  {
   "cell_type": "code",
   "execution_count": 24,
   "metadata": {},
   "outputs": [
    {
     "name": "stdout",
     "output_type": "stream",
     "text": [
      "2022-02-27 01:58:12,425 INFO sqlalchemy.engine.Engine UPDATE data SET subscribers=? WHERE data.id = ?\n",
      "2022-02-27 01:58:12,427 INFO sqlalchemy.engine.Engine [generated in 0.00171s] (10000, 1)\n",
      "2022-02-27 01:58:12,429 INFO sqlalchemy.engine.Engine COMMIT\n"
     ]
    }
   ],
   "source": [
    "db_session.commit()"
   ]
  },
  {
   "cell_type": "code",
   "execution_count": 25,
   "metadata": {},
   "outputs": [
    {
     "name": "stdout",
     "output_type": "stream",
     "text": [
      "2022-02-27 01:58:30,057 INFO sqlalchemy.engine.Engine BEGIN (implicit)\n",
      "2022-02-27 01:58:30,058 INFO sqlalchemy.engine.Engine SELECT data.id AS data_id, data.date AS data_date, data.subscribers AS data_subscribers, data.reviews AS data_reviews, data.timestamp AS data_timestamp \n",
      "FROM data\n",
      "2022-02-27 01:58:30,059 INFO sqlalchemy.engine.Engine [cached since 189.7s ago] ()\n"
     ]
    },
    {
     "data": {
      "text/plain": [
       "10000"
      ]
     },
     "execution_count": 25,
     "metadata": {},
     "output_type": "execute_result"
    }
   ],
   "source": [
    "db_session.query(Data).all()[0].subscribers"
   ]
  },
  {
   "cell_type": "markdown",
   "metadata": {},
   "source": [
    "### Delete"
   ]
  },
  {
   "cell_type": "code",
   "execution_count": 26,
   "metadata": {},
   "outputs": [
    {
     "name": "stdout",
     "output_type": "stream",
     "text": [
      "2022-02-27 02:00:05,568 INFO sqlalchemy.engine.Engine SELECT data.id AS data_id, data.date AS data_date, data.subscribers AS data_subscribers, data.reviews AS data_reviews, data.timestamp AS data_timestamp \n",
      "FROM data \n",
      "WHERE data.subscribers = ?\n",
      "2022-02-27 02:00:05,570 INFO sqlalchemy.engine.Engine [generated in 0.00156s] (10000,)\n"
     ]
    }
   ],
   "source": [
    "datum = db_session.query(Data).filter_by(subscribers=10000).one()"
   ]
  },
  {
   "cell_type": "code",
   "execution_count": 29,
   "metadata": {},
   "outputs": [
    {
     "name": "stdout",
     "output_type": "stream",
     "text": [
      "2022-02-27 02:00:57,925 INFO sqlalchemy.engine.Engine DELETE FROM data WHERE data.id = ?\n",
      "2022-02-27 02:00:57,926 INFO sqlalchemy.engine.Engine [generated in 0.00148s] (1,)\n",
      "2022-02-27 02:00:57,929 INFO sqlalchemy.engine.Engine COMMIT\n"
     ]
    }
   ],
   "source": [
    "db_session.delete(datum)\n",
    "db_session.commit()"
   ]
  },
  {
   "cell_type": "code",
   "execution_count": 31,
   "metadata": {},
   "outputs": [
    {
     "name": "stdout",
     "output_type": "stream",
     "text": [
      "2022-02-27 02:01:37,807 INFO sqlalchemy.engine.Engine SELECT data.id AS data_id, data.date AS data_date, data.subscribers AS data_subscribers, data.reviews AS data_reviews, data.timestamp AS data_timestamp \n",
      "FROM data\n",
      "2022-02-27 02:01:37,808 INFO sqlalchemy.engine.Engine [cached since 377.4s ago] ()\n"
     ]
    },
    {
     "data": {
      "text/plain": [
       "2"
      ]
     },
     "execution_count": 31,
     "metadata": {},
     "output_type": "execute_result"
    }
   ],
   "source": [
    "len(db_session.query(Data).all())"
   ]
  },
  {
   "cell_type": "code",
   "execution_count": 32,
   "metadata": {},
   "outputs": [
    {
     "name": "stdout",
     "output_type": "stream",
     "text": [
      "2022-02-27 02:01:54,921 INFO sqlalchemy.engine.Engine DELETE FROM data\n",
      "2022-02-27 02:01:54,923 INFO sqlalchemy.engine.Engine [generated in 0.00159s] ()\n"
     ]
    },
    {
     "data": {
      "text/plain": [
       "2"
      ]
     },
     "execution_count": 32,
     "metadata": {},
     "output_type": "execute_result"
    }
   ],
   "source": [
    "# 全削除\n",
    "Data.query.delete()"
   ]
  },
  {
   "cell_type": "code",
   "execution_count": null,
   "metadata": {},
   "outputs": [],
   "source": []
  }
 ],
 "metadata": {
  "interpreter": {
   "hash": "af621319d7c095cb8987651441d36015f1e708fa309af55f80af299d8427e0c6"
  },
  "kernelspec": {
   "display_name": "Python 3.8.12 ('dash')",
   "language": "python",
   "name": "python3"
  },
  "language_info": {
   "codemirror_mode": {
    "name": "ipython",
    "version": 3
   },
   "file_extension": ".py",
   "mimetype": "text/x-python",
   "name": "python",
   "nbconvert_exporter": "python",
   "pygments_lexer": "ipython3",
   "version": "3.8.12"
  },
  "orig_nbformat": 4
 },
 "nbformat": 4,
 "nbformat_minor": 2
}
