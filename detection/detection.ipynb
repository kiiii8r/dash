{
 "cells": [
  {
   "cell_type": "code",
   "execution_count": 2,
   "metadata": {},
   "outputs": [],
   "source": [
    "from bs4 import BeautifulSoup as bs\n",
    "import requests"
   ]
  },
  {
   "cell_type": "code",
   "execution_count": 3,
   "metadata": {},
   "outputs": [],
   "source": [
    "url = 'https://scraping.official.ec/items/40792454'\n",
    "res = requests.get(url)"
   ]
  },
  {
   "cell_type": "code",
   "execution_count": 8,
   "metadata": {},
   "outputs": [],
   "source": [
    "soup = bs(res.text, 'html.parser')"
   ]
  },
  {
   "cell_type": "code",
   "execution_count": 14,
   "metadata": {},
   "outputs": [
    {
     "data": {
      "text/plain": [
       "'[<p class=\"item-detail_soldOut_f7fcddbf\">SOLD OUT</p>, <p class=\"item-detail_soldOut_f7fcddbf\">SOLD OUT</p>]'"
      ]
     },
     "execution_count": 14,
     "metadata": {},
     "output_type": "execute_result"
    }
   ],
   "source": [
    "new_elem = str(soup.select('.item-detail_soldOut_f7fcddbf'))\n",
    "new_elem"
   ]
  },
  {
   "cell_type": "code",
   "execution_count": 16,
   "metadata": {},
   "outputs": [],
   "source": [
    "try:\n",
    "  with open('old_elem.txt') as f:\n",
    "    old_elem = f.read()\n",
    "except:\n",
    "  old_elem = ''"
   ]
  },
  {
   "cell_type": "code",
   "execution_count": 17,
   "metadata": {},
   "outputs": [
    {
     "name": "stdout",
     "output_type": "stream",
     "text": [
      "webおエージが変更されました\n"
     ]
    }
   ],
   "source": [
    "if new_elem == old_elem:\n",
    "  print('変化なし')\n",
    "else:\n",
    "  with open('old_elem.txt','w') as f:\n",
    "    f.write(new_elem)\n",
    "  print('webページが変更されました')"
   ]
  },
  {
   "cell_type": "code",
   "execution_count": 21,
   "metadata": {},
   "outputs": [],
   "source": [
    "def detect_updates():\n",
    "  url = 'https://scraping.official.ec/items/40792284'\n",
    "  res = requests.get(url)\n",
    "\n",
    "  soup = bs(res.text, 'html.parser')\n",
    "  # 文字列型で一致しているか判断する\n",
    "  new_elem = str(soup.select('.item-detail_soldOut_f7fcddbf'))\n",
    "\n",
    "  # 例外処理を行い、.txtが無かった場合にも対応\n",
    "  try:\n",
    "    # with...後処理が必要な処理に対し代行してくれる(open→close)\n",
    "    with open('old_elem.txt') as f:\n",
    "      old_elem = f.read()\n",
    "  except:\n",
    "    old_elem = ''\n",
    "\n",
    "  if new_elem == old_elem:\n",
    "    print('変化なし')\n",
    "    return False\n",
    "  else:\n",
    "    with open('old_elem.txt','w') as f:\n",
    "      # wright...ファイルの中身を書き換える\n",
    "      f.write(new_elem)\n",
    "    print('webページが変更されました')\n",
    "    return True"
   ]
  },
  {
   "cell_type": "code",
   "execution_count": 22,
   "metadata": {},
   "outputs": [
    {
     "name": "stdout",
     "output_type": "stream",
     "text": [
      "変化なし\n"
     ]
    },
    {
     "data": {
      "text/plain": [
       "False"
      ]
     },
     "execution_count": 22,
     "metadata": {},
     "output_type": "execute_result"
    }
   ],
   "source": [
    "detect_updates()"
   ]
  },
  {
   "cell_type": "code",
   "execution_count": null,
   "metadata": {},
   "outputs": [],
   "source": []
  }
 ],
 "metadata": {
  "interpreter": {
   "hash": "af621319d7c095cb8987651441d36015f1e708fa309af55f80af299d8427e0c6"
  },
  "kernelspec": {
   "display_name": "Python 3.8.12 ('dash')",
   "language": "python",
   "name": "python3"
  },
  "language_info": {
   "codemirror_mode": {
    "name": "ipython",
    "version": 3
   },
   "file_extension": ".py",
   "mimetype": "text/x-python",
   "name": "python",
   "nbconvert_exporter": "python",
   "pygments_lexer": "ipython3",
   "version": "3.8.12"
  },
  "orig_nbformat": 4
 },
 "nbformat": 4,
 "nbformat_minor": 2
}
